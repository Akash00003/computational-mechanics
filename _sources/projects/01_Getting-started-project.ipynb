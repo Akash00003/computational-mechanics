{
 "cells": [
  {
   "cell_type": "code",
   "execution_count": 1,
   "id": "a84c0384",
   "metadata": {},
   "outputs": [],
   "source": [
    "import numpy as np\n",
    "import matplotlib.pyplot as plt\n",
    "plt.style.use('fivethirtyeight')"
   ]
  },
  {
   "cell_type": "markdown",
   "id": "7c54c6ea",
   "metadata": {},
   "source": [
    "# Computational Mechanics Project #01 - Heat Transfer in Forensic Science\n",
    "\n",
    "We can use our current skillset for a macabre application. We can predict the time of death based upon the current temperature and change in temperature of a corpse. \n",
    "\n",
    "Forensic scientists use Newton's law of cooling to determine the time elapsed since the loss of life, \n",
    "\n",
    "$\\frac{dT}{dt} = -K(T-T_a)$,\n",
    "\n",
    "where $T$ is the current temperature, $T_a$ is the ambient temperature, $t$ is the elapsed time in hours, and $K$ is an empirical constant. \n",
    "\n",
    "Suppose the temperature of the corpse is 85$^o$F at 11:00 am. Then, 2 hours later the temperature is 74$^{o}$F. \n",
    "\n",
    "Assume ambient temperature is a constant 65$^{o}$F.\n",
    "\n",
    "1. Use Python to calculate $K$ using a finite difference approximation, $\\frac{dT}{dt} \\approx \\frac{T(t+\\Delta t)-T(t)}{\\Delta t}$."
   ]
  },
  {
   "cell_type": "code",
   "execution_count": 2,
   "id": "1f44b37e",
   "metadata": {},
   "outputs": [
    {
     "name": "stdout",
     "output_type": "stream",
     "text": [
      "0.611111111111111\n"
     ]
    }
   ],
   "source": [
    "dTdt = (74-85)/2\n",
    "constant_K = (-1) * dTdt * (1/(74-65))\n",
    "print(constant_K)"
   ]
  },
  {
   "cell_type": "markdown",
   "id": "d9129998",
   "metadata": {},
   "source": [
    "2. Change your work from problem 1 to create a function that accepts the temperature at two times, ambient temperature, and the time elapsed to return $K$."
   ]
  },
  {
   "cell_type": "code",
   "execution_count": 3,
   "id": "bec78d69",
   "metadata": {},
   "outputs": [],
   "source": [
    "def find_K(temp1, temp2, tempAmb, time_elapsed):\n",
    "    dTdt = (temp2-temp1)/time_elapsed\n",
    "    constant_K = (-1) * dTdt * (1/(temp2-tempAmb))\n",
    "    return constant_K"
   ]
  },
  {
   "cell_type": "code",
   "execution_count": 4,
   "id": "a1b0f72b",
   "metadata": {},
   "outputs": [
    {
     "data": {
      "text/plain": [
       "0.611111111111111"
      ]
     },
     "execution_count": 4,
     "metadata": {},
     "output_type": "execute_result"
    }
   ],
   "source": [
    "find_K(85,74,65,2)"
   ]
  },
  {
   "cell_type": "markdown",
   "id": "1b48ce75",
   "metadata": {},
   "source": [
    "3. A first-order thermal system has the following analytical solution, \n",
    "\n",
    "    $T(t) =T_a+(T(0)-T_a)e^{-Kt}$\n",
    "\n",
    "    where $T(0)$ is the temperature of the corpse at t=0 hours i.e. at the time of discovery and $T_a$ is a constant ambient temperature. \n",
    "\n",
    "    a. Show that an Euler integration converges to the analytical solution as the time step is decreased. Use the constant $K$ derived above and the initial temperature, T(0) = 85$^o$F. \n",
    "\n",
    "    b. What is the final temperature as t$\\rightarrow\\infty$?\n",
    "    \n",
    "    c. At what time was the corpse 98.6$^{o}$F? i.e. what was the time of death?"
   ]
  },
  {
   "cell_type": "code",
   "execution_count": null,
   "id": "c2ae6bb4",
   "metadata": {},
   "outputs": [],
   "source": []
  },
  {
   "cell_type": "code",
   "execution_count": 5,
   "id": "2de57654",
   "metadata": {},
   "outputs": [
    {
     "name": "stdout",
     "output_type": "stream",
     "text": [
      "B. It would approach the ambient temp of 65 deg F\n"
     ]
    },
    {
     "data": {
      "image/png": "[encoded data removed]",
      "text/plain": [
       "<Figure size 432x288 with 1 Axes>"
      ]
     },
     "metadata": {
      "filenames": {
       "image/png": "/home/runner/work/computational-mechanics/computational-mechanics/_build/jupyter_execute/projects/01_Getting-started-project_8_1.png"
      }
     },
     "output_type": "display_data"
    }
   ],
   "source": [
    "import numpy as np\n",
    "import math\n",
    "import matplotlib.pyplot as plt\n",
    "total_time = 4 #hours\n",
    "def tempValues(steps):\n",
    "    t_euler = [] # np.zeros(steps)\n",
    "    t_time = [] #np.linspace(0,total_time,steps)\n",
    "    \n",
    "    t_euler.append(85)\n",
    "    oldTemp = 85\n",
    "    t_time.append(0)\n",
    "    oldTime = 0\n",
    "    \n",
    "    interval = total_time/steps\n",
    "    for i in range(steps):\n",
    "        oldTime += interval\n",
    "        oldTemp = 5*((7942*interval) - 200*oldTemp)/(611*interval - 1000)\n",
    "        t_time.append(oldTime)\n",
    "        t_euler.append(oldTemp)\n",
    "    #print(t_euler)\n",
    "    t_analyitical = []\n",
    "    error_vals = []\n",
    "    index = 0  \n",
    "    for timeVal in t_time:\n",
    "        newTemp = 65+20*math.exp(-0.611*timeVal)\n",
    "        t_analyitical.append(newTemp)\n",
    "        error_vals.append((t_euler[index] - newTemp)/newTemp)\n",
    "        index +=1\n",
    "    return np.mean(error_vals)\n",
    "#Part A\n",
    "n = []\n",
    "error = []\n",
    "\n",
    "tempValues(100)\n",
    "for i in range(2,15):\n",
    "  steps = int(math.pow(2,i))\n",
    "  n.append(steps)\n",
    "  error.append(tempValues(steps))\n",
    "\n",
    "\n",
    "plt.loglog(n, error,'o')\n",
    "plt.xlabel('number of timesteps N')\n",
    "plt.ylabel('relative error')\n",
    "plt.title('Part A')\n",
    "plt.show\n",
    "\n",
    "print(\"B. It would approach the ambient temp of 65 deg F\")\n",
    "\n",
    "#Part C\n",
    "# 98.6 = 65 + (85-65)*e^(-0.611t)\n",
    "# t ~ -0.85 \n",
    "# time of death was 0.85 hr = 51.6 mins before time of discovery"
   ]
  },
  {
   "cell_type": "code",
   "execution_count": 6,
   "id": "17983847",
   "metadata": {},
   "outputs": [],
   "source": [
    "import numpy as np\n",
    "import math\n",
    "import matplotlib.pyplot as plt"
   ]
  },
  {
   "cell_type": "code",
   "execution_count": 7,
   "id": "dd416ad3",
   "metadata": {},
   "outputs": [
    {
     "data": {
      "text/plain": [
       "'\\n4. Now that we have a working numerical model, we can look at the results if the\\nambient temperature is not constant i.e. T_a=f(t). We can use the weather to improve our estimate for time of death. Consider the following Temperature for the day in question. \\n\\n    |time| Temp ($^o$F)|\\n    |---|---|\\n    |6am|50|\\n    |7am|51|\\n    |8am|55|\\n    |9am|60|\\n    |10am|65|\\n    |11am|70|\\n    |noon|75|\\n    |1pm|80|\\n\\n    a. Create a function that returns the current temperature based upon the time (0 hours=11am, 65$^{o}$F) \\n    *Plot the function $T_a$ vs time. Does it look correct? Is there a better way to get $T_a(t)$?\\n'"
      ]
     },
     "execution_count": 7,
     "metadata": {},
     "output_type": "execute_result"
    }
   ],
   "source": [
    "'''\n",
    "4. Now that we have a working numerical model, we can look at the results if the\n",
    "ambient temperature is not constant i.e. T_a=f(t). We can use the weather to improve our estimate for time of death. Consider the following Temperature for the day in question. \n",
    "\n",
    "    |time| Temp ($^o$F)|\n",
    "    |---|---|\n",
    "    |6am|50|\n",
    "    |7am|51|\n",
    "    |8am|55|\n",
    "    |9am|60|\n",
    "    |10am|65|\n",
    "    |11am|70|\n",
    "    |noon|75|\n",
    "    |1pm|80|\n",
    "\n",
    "    a. Create a function that returns the current temperature based upon the time (0 hours=11am, 65$^{o}$F) \n",
    "    *Plot the function $T_a$ vs time. Does it look correct? Is there a better way to get $T_a(t)$?\n",
    "'''"
   ]
  },
  {
   "cell_type": "code",
   "execution_count": 8,
   "id": "6f828f4f",
   "metadata": {},
   "outputs": [
    {
     "name": "stdout",
     "output_type": "stream",
     "text": [
      "60.0\n",
      "test\n"
     ]
    }
   ],
   "source": [
    "t = [6, 7, 8, 9, 10, 11, 12, 13]\n",
    "temps = [50,51,55,60,65,70,75,80]\n",
    "def t_ambient(hour):\n",
    "    if hour > 3:\n",
    "        return temps[0]\n",
    "    else:\n",
    "        return np.interp(hour+10,t,temps)\n",
    "    \n",
    "print(t_ambient(-1))\n",
    "print(\"test\")"
   ]
  },
  {
   "cell_type": "code",
   "execution_count": null,
   "id": "de717f70",
   "metadata": {},
   "outputs": [],
   "source": []
  },
  {
   "cell_type": "code",
   "execution_count": null,
   "id": "3ca6e60f",
   "metadata": {},
   "outputs": [],
   "source": []
  },
  {
   "cell_type": "code",
   "execution_count": 9,
   "id": "adceb83b",
   "metadata": {},
   "outputs": [
    {
     "data": {
      "text/plain": [
       "<function matplotlib.pyplot.show(close=None, block=None)>"
      ]
     },
     "execution_count": 9,
     "metadata": {},
     "output_type": "execute_result"
    },
    {
     "data": {
      "image/png": "[encoded data removed]",
      "text/plain": [
       "<Figure size 432x288 with 1 Axes>"
      ]
     },
     "metadata": {
      "filenames": {
       "image/png": "/home/runner/work/computational-mechanics/computational-mechanics/_build/jupyter_execute/projects/01_Getting-started-project_14_1.png"
      }
     },
     "output_type": "display_data"
    }
   ],
   "source": [
    "#b. Modify the Euler approximation solution to account for changes in temperature at each hour. \n",
    "#Compare the new nonlinear Euler approximation to the linear analytical model. \n",
    "#At what time was the corpse 98.6$^{o}$F? i.e. what was the time of death?\n",
    "\n",
    "    \n",
    "total_time = 2 #hours\n",
    "def tempValues(steps):\n",
    "    \n",
    "    t_euler = [] # np.zeros(steps)\n",
    "    t_time = [] #np.linspace(0,total_time,steps)\n",
    "    \n",
    "    t_euler.append(t_ambient(0))\n",
    "    oldTemp = t_ambient(0)\n",
    "    t_time.append(0)\n",
    "    oldTime = 0\n",
    "    \n",
    "    interval = total_time/steps\n",
    "    for i in range(steps):\n",
    "        oldTime += interval\n",
    "        oldTemp = ((-1*oldTemp/interval)-0.611*t_ambient(oldTime))/(0.611-1/interval)\n",
    "        t_time.append(oldTime)\n",
    "        t_euler.append(oldTemp)\n",
    "    t_analyitical = []\n",
    "    error_vals = []\n",
    "    index = 0\n",
    "    for timeVal in t_time:\n",
    "        newTemp = t_ambient(timeVal) + (85-t_ambient(timeVal))*np.exp(-0.611*timeVal)\n",
    "        t_analyitical.append(newTemp)\n",
    "        error_vals.append((t_euler[index] - newTemp)/newTemp)\n",
    "        index +=1\n",
    "    return np.mean(error_vals)\n",
    "\n",
    "n = []\n",
    "error = []\n",
    "\n",
    "\n",
    "for i in range(2,15):\n",
    "  steps = int(math.pow(2,i))\n",
    "  n.append(steps)\n",
    "  error.append(tempValues(steps))\n",
    "\n",
    "\n",
    "plt.loglog(n, error,'o')\n",
    "plt.xlabel('number of timesteps N')\n",
    "plt.ylabel('relative error')\n",
    "plt.title('With Ambient Temp')\n",
    "plt.show"
   ]
  },
  {
   "cell_type": "code",
   "execution_count": null,
   "id": "08f436cc",
   "metadata": {},
   "outputs": [],
   "source": []
  }
 ],
 "metadata": {
  "jupytext": {
   "formats": "notebooks//ipynb,md:myst",
   "text_representation": {
    "extension": ".md",
    "format_name": "myst",
    "format_version": 0.12,
    "jupytext_version": "1.6.0"
   }
  },
  "kernelspec": {
   "display_name": "Python 3",
   "language": "python",
   "name": "python3"
  },
  "language_info": {
   "codemirror_mode": {
    "name": "ipython",
    "version": 3
   },
   "file_extension": ".py",
   "mimetype": "text/x-python",
   "name": "python",
   "nbconvert_exporter": "python",
   "pygments_lexer": "ipython3",
   "version": "3.9.6"
  },
  "source_map": [
   15,
   19,
   37,
   41,
   45,
   52,
   54,
   68,
   72,
   127,
   133,
   154,
   167,
   171,
   175,
   225
  ]
 },
 "nbformat": 4,
 "nbformat_minor": 5
}