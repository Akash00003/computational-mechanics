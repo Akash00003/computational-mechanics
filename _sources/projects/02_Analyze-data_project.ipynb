{
 "cells": [
  {
   "cell_type": "markdown",
   "id": "0b88800f",
   "metadata": {},
   "source": [
    "# Computational Mechanics Project #02 - Create specifications for a projectile robot\n",
    "\n",
    "On the first day of class, we threw $2\"\\times~2\"$ dampened paper (spitballs) at a target on the whiteboard. Now, we are going to analyze the accuracy of the class with some cool Python tools and design a robot that has the same accuracy and precision as the class, but we will have the robot move farther away from the target and use a simpler projectile i.e. a tennis ball so we don't need to worry about knuckle-ball physics. \n",
    "\n",
    "The goal of this project is to determine the precision of necessary components for a robot that can reproduce the class throwing distibution. We have generated pseudo random numbers using `numpy.random`, but the class target practice is an example of truly random distributions. If we repeated the exercise, there is a vanishingly small probability that we would hit the same points on the target, and there are no deterministic models that could take into account all of the factors that affected each hit on the board. \n",
    "\n",
    "<img src=\"../images/robot_design.png\" style=\"height: 250px;\"/>"
   ]
  },
  {
   "cell_type": "markdown",
   "id": "46a78cd0",
   "metadata": {},
   "source": [
    "Now, we ask ourselves some questions:\n",
    "\n",
    "1. How do we quantify the class accuracy and precision?\n",
    "\n",
    "2. If we design a robot, what design components can we control?\n",
    "\n",
    "3. How can we relate the controlled components to the class accuracy, and specify the component precision?\n",
    "\n",
    "The first question, we have some experience from our work in [02_Seeing_Stats](../notebooks/02_Seeing_Stats.ipynb). We can define the mean, standard deviation, measure the first, second, and third quartiles,  etc. \n",
    "\n",
    "The second question is a physical question. We cannot control the placement of the robot or the target those are chosen for us. We cannot control temperature, mechanical vibrations, etc. We *can* control the desired initial velocity. The initial velocity will have some speed and direction, and both will be subject to random noise. Once the speed and direction are set, the location on the target is determined by kinematic equations for an object in freefall, as such\n",
    "\n",
    "$x_{impact} = \\frac{v_x}{v_y}d + x(0)~~~~~~~~~~~~~~~~~~~~(1.a)$\n",
    "\n",
    "$z_{impact} = d\\left(\\frac{v_z(0)}{v_y}-\\frac{g}{2v_y^2}d\\right)+ z(0)~~~~~(1.b)$.\n",
    "\n",
    "Where the location of impact is at a $y$-distance of $d$ at a point on the target with coordinates $(x_{impact},~z_{impact})$, and the initial velocity is $\\bar{v}=v_x\\hat{i}+v_y\\hat{j}+v_z(0)\\hat{k}$, the object is released at an initial location $\\bar{r}(0)=x(0)\\hat{i}+0\\hat{j}+z(0)\\hat{k}$, and the only acceleration is due to gravity, $\\bar{a}=-g\\hat{k}$. Equation (1) becomes much easier to  evaluate if we assume that $v_x=0$, resulting in an evalution of the accuracy of the height of the impact, $z_{impact}$, as such\n",
    "\n",
    "$x_{impact} = x(0)~~~~~~~~~~~~~~~~~~~~(2.a)$\n",
    "\n",
    "$z_{impact} = \\frac{d}{\\cos{\\theta}}\\left(\\sin{\\theta}-\\frac{g}{2v_0^2\\cos{\\theta}}d\\right)+ z(0)~~~~~(2.b)$.\n",
    "\n",
    "Where $\\theta$ is the angle of the initial velocity and $v_0$ is the initial speed. Equation (2) restricts the analysis to height accuracy. You can incorporate the 2D impact analysis if you finish the 1D analysis."
   ]
  },
  {
   "cell_type": "markdown",
   "id": "c092f76e",
   "metadata": {},
   "source": [
    "The third question, is how we can relate equation (2) to the measured points of impact? For this, we can use Monte Carlo methods *(There are other methods, but Monte Carlo is one of the most straight-forward)*. Our Monte Carlo approach is as such, if we have a desired initial speed, $v_0$, and desired angle, $\\theta$, we can propagate the uncertainty of our actual speeds and angles into the $z_{impact}$ locations. Then, we can choose distributions in speed and angles that match the distributions in $z_{impact}$ locations. Here are the steps:\n",
    "\n",
    "1. Generate random $\\theta_i$ and $v_{0~i}$ variables\n",
    "\n",
    "2. Plug into eqn 2 for random $z_{impact~i}$ locations\n",
    "\n",
    "3. Compare to our measured $z_{impact}$ location statistics\n",
    "\n",
    "4. Repeat 1-3 until the predicted uncertainty matches the desired uncertainty, we can use a number of comparison metrics:\n",
    "    \n",
    "    - standard deviation\n",
    "    \n",
    "    - first, second, and third quartiles\n",
    "    \n",
    "    - visually, with box plots and histograms"
   ]
  },
  {
   "cell_type": "markdown",
   "id": "7a024a65",
   "metadata": {},
   "source": [
    "# Project Deliverables\n",
    "\n",
    "1. Statistical analysis of class accuracy and precision (x- and z-locations) data is in the csv file  [../data/target_data.csv](../data/target_data.csv) _Note: if you want to see how I turned the images into data check out the jupyter notebook [process_target_practice](./process_target_practice.ipynb)\n",
    "\n",
    "2. A Monte Carlo model to generate impact heights based upon uncertainty in $\\theta_0$ and $v_0$. \n",
    "\n",
    "3. The precision required to recreate the class accuracy and precision with a robot. \n",
    "**You must show some validation of your work**\n",
    "\n",
    "4. [BONUS] Repeat 2-3 taking into account the variation in $x_{impact}$ due to misalignment. \n",
    "\n",
    "Given constants and constraints:\n",
    "\n",
    "- $d=$3 m, distance to target\n",
    "\n",
    "- $g=$9.81 m/s$^2$, acceleration due to gravity\n",
    "\n",
    "- $z(0)=$0.3 m,  the initial height is 0.3 m above the bull's eye\n",
    "\n",
    "- 4 m/s$<v_0<$12 m/s, the initial velocity is always higher than 9 mph and less than 27 mph"
   ]
  },
  {
   "cell_type": "code",
   "execution_count": 1,
   "id": "3f628447",
   "metadata": {},
   "outputs": [
    {
     "ename": "ModuleNotFoundError",
     "evalue": "No module named 'pandas'",
     "output_type": "error",
     "traceback": [
      "\u001b[0;31m---------------------------------------------------------------------------\u001b[0m",
      "\u001b[0;31mModuleNotFoundError\u001b[0m                       Traceback (most recent call last)",
      "\u001b[0;32m/tmp/ipykernel_1810/2792702770.py\u001b[0m in \u001b[0;36m<module>\u001b[0;34m\u001b[0m\n\u001b[1;32m      1\u001b[0m \u001b[0;32mimport\u001b[0m \u001b[0mmatplotlib\u001b[0m\u001b[0;34m.\u001b[0m\u001b[0mpyplot\u001b[0m \u001b[0;32mas\u001b[0m \u001b[0mplt\u001b[0m\u001b[0;34m\u001b[0m\u001b[0;34m\u001b[0m\u001b[0m\n\u001b[1;32m      2\u001b[0m \u001b[0;32mimport\u001b[0m \u001b[0mnumpy\u001b[0m \u001b[0;32mas\u001b[0m \u001b[0mnp\u001b[0m\u001b[0;34m\u001b[0m\u001b[0;34m\u001b[0m\u001b[0m\n\u001b[0;32m----> 3\u001b[0;31m \u001b[0;32mimport\u001b[0m \u001b[0mpandas\u001b[0m \u001b[0;32mas\u001b[0m \u001b[0mpd\u001b[0m\u001b[0;34m\u001b[0m\u001b[0;34m\u001b[0m\u001b[0m\n\u001b[0m\u001b[1;32m      4\u001b[0m \u001b[0;34m\u001b[0m\u001b[0m\n\u001b[1;32m      5\u001b[0m \u001b[0;31m#Import rcParams to set font styles\u001b[0m\u001b[0;34m\u001b[0m\u001b[0;34m\u001b[0m\u001b[0;34m\u001b[0m\u001b[0m\n",
      "\u001b[0;31mModuleNotFoundError\u001b[0m: No module named 'pandas'"
     ]
    }
   ],
   "source": [
    "import matplotlib.pyplot as plt\n",
    "import numpy as np\n",
    "import pandas as pd\n",
    "\n",
    "#Import rcParams to set font styles\n",
    "from matplotlib import rcParams\n",
    "\n",
    "#Set font style and size \n",
    "rcParams['font.family'] = 'sans'\n",
    "rcParams['font.size'] = 18\n",
    "rcParams['lines.linewidth'] = 3"
   ]
  },
  {
   "cell_type": "code",
   "execution_count": null,
   "id": "463733d6",
   "metadata": {},
   "outputs": [],
   "source": [
    "data = pd.read_csv('../data/target_data.csv')\n",
    "xloc = data[' x position (m)'].values\n",
    "yloc = data[' y position (m)'].values"
   ]
  },
  {
   "cell_type": "code",
   "execution_count": null,
   "id": "f69c8cd5",
   "metadata": {},
   "outputs": [],
   "source": [
    "mu_x = xloc.mean()\n",
    "mu_y = yloc.mean()\n",
    "plt.scatter(xloc,yloc,label='hit locations')\n",
    "plt.scatter(mu_x,mu_y,marker='+',s=500,label='avg location')\n",
    "plt.axis([-1,1,-1,1]);"
   ]
  },
  {
   "cell_type": "code",
   "execution_count": null,
   "id": "837896a9",
   "metadata": {},
   "outputs": [],
   "source": [
    "plt.boxplot([xloc,yloc],labels=['x-location','y-location'])\n",
    "plt.title('Box-plots for x and y hit locations')"
   ]
  },
  {
   "cell_type": "code",
   "execution_count": null,
   "id": "74ee2605",
   "metadata": {},
   "outputs": [],
   "source": [
    "xq = np.percentile(xloc, q=[25,50,75])\n",
    "\n",
    "yq = np.percentile(yloc, q=[25,50,75])\n",
    "\n",
    "print('the class location first quartile is\\t x={:.1f} cm, y={:.1f} cm'.format(xq[0]*100,yq[0]*100))\n",
    "print('the class location second quartile is\\t x={:.1f} cm, y={:.1f} cm'.format(xq[1]*100,yq[1]*100))\n",
    "print('the class location third quartile is\\t x={:.1f} cm, y={:.1f} cm'.format(xq[2]*100,yq[2]*100))\n",
    "print('min and max y-location = {:.1f} cm and {:.1f} cm'.format(yloc.min()*100,yloc.max()*100))\n",
    "plt.scatter(xloc,yloc,label='hit locations')\n",
    "plt.scatter(mu_x,mu_y,marker='+',s=500,label='avg location')\n",
    "\n",
    "\n",
    "for i in range(0,3):\n",
    "    xline = np.array([xq[i],xq[i],np.max(xloc)])\n",
    "    yline = np.array([np.max(yloc),yq[i],yq[i]])\n",
    "    plt.plot(xline,yline,label='quartile-{}'.format(i+1))\n",
    "\n",
    "plt.axis([-1,1,-1,1]);\n",
    "plt.legend(bbox_to_anchor=(1,0.5),loc='center left');"
   ]
  },
  {
   "cell_type": "markdown",
   "id": "2cf8ae88",
   "metadata": {},
   "source": [
    "## Note about quartiles\n",
    "\n",
    "The quartiles show you the dividing lines for when data points are above a given line. In the above plot, 50\\% of the data is in the box bounded by quartile-1 and quartile-2, but if you look at any given quartile, it is dividing the data into a less-than more than line."
   ]
  },
  {
   "cell_type": "markdown",
   "id": "66cfce72",
   "metadata": {},
   "source": [
    "$z_{impact} = \\frac{d}{\\cos{\\theta}}\\left(\\sin{\\theta}-\\frac{g}{2v_0^2\\cos{\\theta}}d\\right)+ z(0)~~~~~(2.b)$.\n",
    "\n",
    "Given constants and constraints:\n",
    "\n",
    "- $d=$3 m, distance to target\n",
    "\n",
    "- $g=$9.81 m/s$^2$, acceleration due to gravity\n",
    "\n",
    "- $z(0)=$0.3 m,  the initial height is 0.3 m above the bull's eye\n",
    "\n",
    "- 4 m/s$<v_0<$12 m/s, the initial velocity is always higher than 9 mph and less than 27 mph"
   ]
  },
  {
   "cell_type": "code",
   "execution_count": null,
   "id": "bf1462fe",
   "metadata": {},
   "outputs": [],
   "source": [
    "from matplotlib import cm\n",
    "def z_impact(v0,a,d=3,g=9.81,z0=0.3):\n",
    "    z = d/np.cos(a)*(np.sin(a)-g/2/v0**2/np.cos(a)*d)+z0-z0\n",
    "    return z\n",
    "v=np.linspace(4,12,10)\n",
    "a=np.linspace(0,np.pi/4)\n",
    "V,A = np.meshgrid(v,a)\n",
    "Z = z_impact(V,A)\n",
    "plt.contourf(V,A*180/np.pi,Z*100,cmap=cm.Greys)\n",
    "plt.xlabel('initial speed (m/s)')\n",
    "plt.ylabel('initial angle (degrees)')\n",
    "plt.title('Impact z-location (cm) for given\\nv0 and angle')\n",
    "plt.colorbar();"
   ]
  },
  {
   "cell_type": "markdown",
   "id": "788bf566",
   "metadata": {},
   "source": [
    "The hit location in along the y axis going from 4-12 m/s can be -320-240 cm, but our locations min-max are -60 cm - 56 cm, so we can only use a narrow region of the given range of speeds. In this example I'll assume the average speed of the thrown object was\n",
    "\n",
    "* mean(v) == 8 m/s\n",
    "\n",
    "this means the average angle has to be\n",
    "\n",
    "* mean($\\theta$)  $\\approx 13.69^o$\n",
    "\n",
    "The variance in the angles and speeds should reflect the variance in the measured locations, this part is a little trial-and-error, but the main deliverable is to create a Monte Carlo model that simulates hit locations based upon the random angles and random speeds. \n",
    "\n",
    "Playing around with `range_a` and `range_v` will result in the boxplots and histograms of impact heights being visually similar."
   ]
  },
  {
   "cell_type": "code",
   "execution_count": null,
   "id": "16e66078",
   "metadata": {},
   "outputs": [],
   "source": [
    "print(z_impact(8,13.69*np.pi/180))\n",
    "print(len(yloc))"
   ]
  },
  {
   "cell_type": "code",
   "execution_count": null,
   "id": "f5aff8f8",
   "metadata": {},
   "outputs": [],
   "source": [
    "def montecarlo_z(range_v=2.5, range_a=15*np.pi/180, mean_v = 8, mean_a = 13.69*np.pi/180,number_hits=54):\n",
    "    ra = np.random.rand(number_hits)\n",
    "    rv = np.random.rand(number_hits)\n",
    "    a = ra*range_a + mean_a-np.mean(ra*range_a)\n",
    "    v = rv*range_v + mean_v-np.mean(rv*range_v)\n",
    "    z_hits = z_impact(v,a)\n",
    "    return z_hits"
   ]
  },
  {
   "cell_type": "code",
   "execution_count": null,
   "id": "6989d1d2",
   "metadata": {},
   "outputs": [],
   "source": [
    "zMC = montecarlo_z(number_hits=1000)\n",
    "plt.boxplot([yloc,zMC],labels=['class','MC']);"
   ]
  },
  {
   "cell_type": "code",
   "execution_count": null,
   "id": "c964eda5",
   "metadata": {},
   "outputs": [],
   "source": [
    "plt.hist(yloc*100,normed=True,histtype='step',label='class',linewidth=3)\n",
    "plt.hist(zMC*100,normed=True,histtype='step',label='Monte Carlo',linewidth=3)\n",
    "plt.xlabel('y location impact (cm)')\n",
    "plt.legend();"
   ]
  },
  {
   "cell_type": "code",
   "execution_count": null,
   "id": "97c07686",
   "metadata": {},
   "outputs": [],
   "source": []
  }
 ],
 "metadata": {
  "jupytext": {
   "formats": "notebooks//ipynb,md:myst",
   "text_representation": {
    "extension": ".md",
    "format_name": "myst",
    "format_version": 0.13,
    "jupytext_version": "1.10.3"
   }
  },
  "kernelspec": {
   "display_name": "Python 3",
   "language": "python",
   "name": "python3"
  },
  "language_info": {
   "codemirror_mode": {
    "name": "ipython",
    "version": 3
   },
   "file_extension": ".py",
   "mimetype": "text/x-python",
   "name": "python",
   "nbconvert_exporter": "python",
   "pygments_lexer": "ipython3",
   "version": "3.9.5"
  },
  "source_map": [
   13,
   23,
   49,
   67,
   90,
   104,
   110,
   118,
   123,
   143,
   149,
   163,
   177,
   191,
   196,
   206,
   211,
   218
  ]
 },
 "nbformat": 4,
 "nbformat_minor": 5
}